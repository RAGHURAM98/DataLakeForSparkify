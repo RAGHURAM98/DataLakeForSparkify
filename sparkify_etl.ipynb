{
 "cells": [
  {
   "cell_type": "code",
   "execution_count": 1,
   "id": "8152cb24",
   "metadata": {},
   "outputs": [
    {
     "data": {
      "application/vnd.jupyter.widget-view+json": {
       "model_id": "bdc89dfe4ede491fa0d1e13d0889318c",
       "version_major": 2,
       "version_minor": 0
      },
      "text/plain": [
       "VBox()"
      ]
     },
     "metadata": {},
     "output_type": "display_data"
    },
    {
     "name": "stdout",
     "output_type": "stream",
     "text": [
      "Starting Spark application\n"
     ]
    },
    {
     "data": {
      "text/html": [
       "<table>\n",
       "<tr><th>ID</th><th>YARN Application ID</th><th>Kind</th><th>State</th><th>Spark UI</th><th>Driver log</th><th>Current session?</th></tr><tr><td>7</td><td>application_1623317180924_0008</td><td>pyspark</td><td>idle</td><td><a target=\"_blank\" href=\"http://ip-172-31-37-233.ec2.internal:20888/proxy/application_1623317180924_0008/\" class=\"emr-proxy-link\" emr-resource=\"j-1ICOJHPIC4KNO\n",
       "\" application-id=\"application_1623317180924_0008\">Link</a></td><td><a target=\"_blank\" href=\"http://ip-172-31-37-233.ec2.internal:8042/node/containerlogs/container_1623317180924_0008_01_000001/livy\" >Link</a></td><td>✔</td></tr></table>"
      ],
      "text/plain": [
       "<IPython.core.display.HTML object>"
      ]
     },
     "metadata": {},
     "output_type": "display_data"
    },
    {
     "data": {
      "application/vnd.jupyter.widget-view+json": {
       "model_id": "",
       "version_major": 2,
       "version_minor": 0
      },
      "text/plain": [
       "FloatProgress(value=0.0, bar_style='info', description='Progress:', layout=Layout(height='25px', width='50%'),…"
      ]
     },
     "metadata": {},
     "output_type": "display_data"
    },
    {
     "name": "stdout",
     "output_type": "stream",
     "text": [
      "SparkSession available as 'spark'.\n"
     ]
    },
    {
     "data": {
      "application/vnd.jupyter.widget-view+json": {
       "model_id": "",
       "version_major": 2,
       "version_minor": 0
      },
      "text/plain": [
       "FloatProgress(value=0.0, bar_style='info', description='Progress:', layout=Layout(height='25px', width='50%'),…"
      ]
     },
     "metadata": {},
     "output_type": "display_data"
    }
   ],
   "source": [
    "import configparser\n",
    "from datetime import datetime\n",
    "import os\n",
    "from pyspark.sql import SparkSession\n",
    "from pyspark.sql.functions import udf, col\n",
    "from pyspark.sql.functions import year, month, dayofmonth, hour, weekofyear, date_format"
   ]
  },
  {
   "cell_type": "code",
   "execution_count": 2,
   "id": "4b17f4dd",
   "metadata": {},
   "outputs": [
    {
     "data": {
      "application/vnd.jupyter.widget-view+json": {
       "model_id": "91e49831ad73409eb1a8baf39d484812",
       "version_major": 2,
       "version_minor": 0
      },
      "text/plain": [
       "VBox()"
      ]
     },
     "metadata": {},
     "output_type": "display_data"
    },
    {
     "data": {
      "application/vnd.jupyter.widget-view+json": {
       "model_id": "",
       "version_major": 2,
       "version_minor": 0
      },
      "text/plain": [
       "FloatProgress(value=0.0, bar_style='info', description='Progress:', layout=Layout(height='25px', width='50%'),…"
      ]
     },
     "metadata": {},
     "output_type": "display_data"
    }
   ],
   "source": [
    "spark = SparkSession \\\n",
    "        .builder \\\n",
    "        .config(\"spark.jars.packages\", \"org.apache.hadoop:hadoop-aws:2.7.0\") \\\n",
    "        .getOrCreate()"
   ]
  },
  {
   "cell_type": "code",
   "execution_count": 3,
   "id": "9b13da6a",
   "metadata": {},
   "outputs": [
    {
     "data": {
      "application/vnd.jupyter.widget-view+json": {
       "model_id": "4c184a99336540a89ab6bd85116dcf78",
       "version_major": 2,
       "version_minor": 0
      },
      "text/plain": [
       "VBox()"
      ]
     },
     "metadata": {},
     "output_type": "display_data"
    },
    {
     "data": {
      "application/vnd.jupyter.widget-view+json": {
       "model_id": "",
       "version_major": 2,
       "version_minor": 0
      },
      "text/plain": [
       "FloatProgress(value=0.0, bar_style='info', description='Progress:', layout=Layout(height='25px', width='50%'),…"
      ]
     },
     "metadata": {},
     "output_type": "display_data"
    }
   ],
   "source": [
    "input_data = \"s3a://udacity-dend/\""
   ]
  },
  {
   "cell_type": "code",
   "execution_count": 4,
   "id": "4b3618ca",
   "metadata": {},
   "outputs": [
    {
     "data": {
      "application/vnd.jupyter.widget-view+json": {
       "model_id": "5dc8382ce41c43e0ae75ccc1be83b4d5",
       "version_major": 2,
       "version_minor": 0
      },
      "text/plain": [
       "VBox()"
      ]
     },
     "metadata": {},
     "output_type": "display_data"
    },
    {
     "data": {
      "application/vnd.jupyter.widget-view+json": {
       "model_id": "",
       "version_major": 2,
       "version_minor": 0
      },
      "text/plain": [
       "FloatProgress(value=0.0, bar_style='info', description='Progress:', layout=Layout(height='25px', width='50%'),…"
      ]
     },
     "metadata": {},
     "output_type": "display_data"
    }
   ],
   "source": [
    "#from pyspark import StructType, StructField\n",
    "from pyspark.sql.types import StructType, StructField, IntegerType,StringType,  DoubleType,LongType\n",
    "schema = StructType([\n",
    "      StructField(\"num_songs\",IntegerType(),True),\n",
    "      StructField(\"artist_id\",StringType(),True),\n",
    "      StructField(\"artist_latitude\",DoubleType(),True),\n",
    "      StructField(\"artist_longitude\",DoubleType(),True),\n",
    "      StructField(\"artist_location\",StringType(),True),\n",
    "      StructField(\"artist_name\",StringType(),True),\n",
    "      StructField(\"song_id\",StringType(),True),\n",
    "      StructField(\"title\",StringType(),True),\n",
    "      StructField(\"duration\",DoubleType(),True),\n",
    "      StructField(\"year\",IntegerType(),True)\n",
    "  ])\n"
   ]
  },
  {
   "cell_type": "code",
   "execution_count": 5,
   "id": "90e96bb6",
   "metadata": {},
   "outputs": [
    {
     "data": {
      "application/vnd.jupyter.widget-view+json": {
       "model_id": "b11086d0e75341ccbebdba05a1f0a496",
       "version_major": 2,
       "version_minor": 0
      },
      "text/plain": [
       "VBox()"
      ]
     },
     "metadata": {},
     "output_type": "display_data"
    },
    {
     "data": {
      "application/vnd.jupyter.widget-view+json": {
       "model_id": "",
       "version_major": 2,
       "version_minor": 0
      },
      "text/plain": [
       "FloatProgress(value=0.0, bar_style='info', description='Progress:', layout=Layout(height='25px', width='50%'),…"
      ]
     },
     "metadata": {},
     "output_type": "display_data"
    }
   ],
   "source": [
    "input_song_data=input_data+\"song_data\"\n",
    "df = spark.read.schema(schema).json(input_song_data).drop_duplicates()"
   ]
  },
  {
   "cell_type": "code",
   "execution_count": 6,
   "id": "762470bf",
   "metadata": {},
   "outputs": [
    {
     "data": {
      "application/vnd.jupyter.widget-view+json": {
       "model_id": "7fbe6f3a382d474487f2ce389f97019f",
       "version_major": 2,
       "version_minor": 0
      },
      "text/plain": [
       "VBox()"
      ]
     },
     "metadata": {},
     "output_type": "display_data"
    },
    {
     "data": {
      "application/vnd.jupyter.widget-view+json": {
       "model_id": "",
       "version_major": 2,
       "version_minor": 0
      },
      "text/plain": [
       "FloatProgress(value=0.0, bar_style='info', description='Progress:', layout=Layout(height='25px', width='50%'),…"
      ]
     },
     "metadata": {},
     "output_type": "display_data"
    }
   ],
   "source": [
    "output_data = \"s3://aws-sparkify-datalake\""
   ]
  },
  {
   "cell_type": "code",
   "execution_count": 7,
   "id": "2fd1fcf0",
   "metadata": {},
   "outputs": [
    {
     "data": {
      "application/vnd.jupyter.widget-view+json": {
       "model_id": "78e60a793643442494e430209321d139",
       "version_major": 2,
       "version_minor": 0
      },
      "text/plain": [
       "VBox()"
      ]
     },
     "metadata": {},
     "output_type": "display_data"
    },
    {
     "data": {
      "application/vnd.jupyter.widget-view+json": {
       "model_id": "",
       "version_major": 2,
       "version_minor": 0
      },
      "text/plain": [
       "FloatProgress(value=0.0, bar_style='info', description='Progress:', layout=Layout(height='25px', width='50%'),…"
      ]
     },
     "metadata": {},
     "output_type": "display_data"
    }
   ],
   "source": [
    "df.createOrReplaceTempView(\"songs_table\")\n",
    "columns = ['song_id', 'title', 'artist_id', 'year', 'duration']\n",
    "\n",
    "songs_table = spark.sql(\n",
    "    \"\"\"\n",
    "    SELECT song_id, title, artist_id, year, duration\n",
    "    FROM songs_table\n",
    "    \"\"\"\n",
    "    ).toDF(*columns)"
   ]
  },
  {
   "cell_type": "code",
   "execution_count": 8,
   "id": "1e03e950",
   "metadata": {},
   "outputs": [
    {
     "data": {
      "application/vnd.jupyter.widget-view+json": {
       "model_id": "bf73604b7d554a7487db8c2acfb3f631",
       "version_major": 2,
       "version_minor": 0
      },
      "text/plain": [
       "VBox()"
      ]
     },
     "metadata": {},
     "output_type": "display_data"
    },
    {
     "data": {
      "application/vnd.jupyter.widget-view+json": {
       "model_id": "",
       "version_major": 2,
       "version_minor": 0
      },
      "text/plain": [
       "FloatProgress(value=0.0, bar_style='info', description='Progress:', layout=Layout(height='25px', width='50%'),…"
      ]
     },
     "metadata": {},
     "output_type": "display_data"
    }
   ],
   "source": [
    "songs_table.write.partitionBy(\"year\", \"artist_id\").parquet(os.path.join(output_data, \"songs.parquet\"), \"overwrite\")"
   ]
  },
  {
   "cell_type": "code",
   "execution_count": 9,
   "id": "46ab37ca",
   "metadata": {},
   "outputs": [
    {
     "data": {
      "application/vnd.jupyter.widget-view+json": {
       "model_id": "7c35e4fd7a5e440d87766bd7607e3835",
       "version_major": 2,
       "version_minor": 0
      },
      "text/plain": [
       "VBox()"
      ]
     },
     "metadata": {},
     "output_type": "display_data"
    },
    {
     "data": {
      "application/vnd.jupyter.widget-view+json": {
       "model_id": "",
       "version_major": 2,
       "version_minor": 0
      },
      "text/plain": [
       "FloatProgress(value=0.0, bar_style='info', description='Progress:', layout=Layout(height='25px', width='50%'),…"
      ]
     },
     "metadata": {},
     "output_type": "display_data"
    }
   ],
   "source": [
    "df.createOrReplaceTempView(\"artists_table\")\n",
    "columns=[\"artist_id\", \"artist_name\", \"artist_location\", \"artist_latitude\", \"artist_longitude\"]\n",
    "artists_table = spark.sql(\n",
    "    \"\"\"\n",
    "    SELECT song_id, title, artist_id, year, duration\n",
    "    FROM artists_table\n",
    "    \"\"\"\n",
    "    ).toDF(*columns)\n"
   ]
  },
  {
   "cell_type": "code",
   "execution_count": 10,
   "id": "af529623",
   "metadata": {},
   "outputs": [
    {
     "data": {
      "application/vnd.jupyter.widget-view+json": {
       "model_id": "2c39b41339254fba8addfb50dd090482",
       "version_major": 2,
       "version_minor": 0
      },
      "text/plain": [
       "VBox()"
      ]
     },
     "metadata": {},
     "output_type": "display_data"
    },
    {
     "data": {
      "application/vnd.jupyter.widget-view+json": {
       "model_id": "",
       "version_major": 2,
       "version_minor": 0
      },
      "text/plain": [
       "FloatProgress(value=0.0, bar_style='info', description='Progress:', layout=Layout(height='25px', width='50%'),…"
      ]
     },
     "metadata": {},
     "output_type": "display_data"
    }
   ],
   "source": [
    "artists_table.write.parquet(os.path.join(output_data, \"artists.parquet\"), \"overwrite\")"
   ]
  },
  {
   "cell_type": "code",
   "execution_count": 11,
   "id": "ef1af28d",
   "metadata": {},
   "outputs": [
    {
     "data": {
      "application/vnd.jupyter.widget-view+json": {
       "model_id": "4da2d4d685bf4517bc3add730b3386f8",
       "version_major": 2,
       "version_minor": 0
      },
      "text/plain": [
       "VBox()"
      ]
     },
     "metadata": {},
     "output_type": "display_data"
    },
    {
     "data": {
      "application/vnd.jupyter.widget-view+json": {
       "model_id": "",
       "version_major": 2,
       "version_minor": 0
      },
      "text/plain": [
       "FloatProgress(value=0.0, bar_style='info', description='Progress:', layout=Layout(height='25px', width='50%'),…"
      ]
     },
     "metadata": {},
     "output_type": "display_data"
    }
   ],
   "source": [
    "schema_1 = StructType([\n",
    "      StructField(\"artist\",StringType(),True),\n",
    "      StructField(\"auth\",StringType(),True),\n",
    "      StructField(\"firstName\",StringType(),True),\n",
    "      StructField(\"gender\",StringType(),True),\n",
    "      StructField(\"itemInSession\",IntegerType(),True),\n",
    "      StructField(\"lastName\",StringType(),True),\n",
    "      StructField(\"length\",DoubleType(),True),\n",
    "      StructField(\"level\",StringType(),True),\n",
    "      StructField(\"location\",StringType(),True),\n",
    "      StructField(\"method\",StringType(),True),\n",
    "    StructField(\"page\",StringType(),True),\n",
    "      StructField(\"registration\",LongType(),True),\n",
    "      StructField(\"sessionId\",IntegerType(),True),\n",
    "      StructField(\"song\",StringType(),True),\n",
    "      StructField(\"status\",IntegerType(),True),\n",
    "      StructField(\"ts\",StringType(),True),\n",
    "    StructField(\"userAgent\",StringType(),True),\n",
    "      StructField(\"userId\",IntegerType(),True)\n",
    "    \n",
    "  ])"
   ]
  },
  {
   "cell_type": "code",
   "execution_count": 12,
   "id": "63d0047c",
   "metadata": {},
   "outputs": [
    {
     "data": {
      "application/vnd.jupyter.widget-view+json": {
       "model_id": "b6cd19b05731440f84b17e4371042ac9",
       "version_major": 2,
       "version_minor": 0
      },
      "text/plain": [
       "VBox()"
      ]
     },
     "metadata": {},
     "output_type": "display_data"
    },
    {
     "data": {
      "application/vnd.jupyter.widget-view+json": {
       "model_id": "",
       "version_major": 2,
       "version_minor": 0
      },
      "text/plain": [
       "FloatProgress(value=0.0, bar_style='info', description='Progress:', layout=Layout(height='25px', width='50%'),…"
      ]
     },
     "metadata": {},
     "output_type": "display_data"
    }
   ],
   "source": [
    "from pyspark.sql.functions import col\n",
    "input_song_data=input_data+\"log_data\"\n",
    "df_log = spark.read.schema(schema_1).json(input_song_data).drop_duplicates().filter(col('page')==\"NextSong\")"
   ]
  },
  {
   "cell_type": "code",
   "execution_count": 13,
   "id": "8b460db4",
   "metadata": {},
   "outputs": [
    {
     "data": {
      "application/vnd.jupyter.widget-view+json": {
       "model_id": "3c3916f97bcc446485bbd1fffc0c59c1",
       "version_major": 2,
       "version_minor": 0
      },
      "text/plain": [
       "VBox()"
      ]
     },
     "metadata": {},
     "output_type": "display_data"
    },
    {
     "data": {
      "application/vnd.jupyter.widget-view+json": {
       "model_id": "",
       "version_major": 2,
       "version_minor": 0
      },
      "text/plain": [
       "FloatProgress(value=0.0, bar_style='info', description='Progress:', layout=Layout(height='25px', width='50%'),…"
      ]
     },
     "metadata": {},
     "output_type": "display_data"
    }
   ],
   "source": [
    "df_log.createOrReplaceTempView(\"users_table\")\n",
    "columns = ['userId', 'firstName', 'lastName', 'gender', 'level']\n",
    "\n",
    "    # write users table to parquet files\n",
    "users_table = spark.sql(\"\"\"\n",
    "    SELECT userId, firstName, lastName, gender, level\n",
    "    FROM users_table\n",
    "    \"\"\").toDF(*columns)\n",
    "\n",
    "users_table.write.parquet(os.path.join(output_data, \"users.parquet\"), \"overwrite\")"
   ]
  },
  {
   "cell_type": "code",
   "execution_count": 14,
   "id": "53066c7e",
   "metadata": {},
   "outputs": [
    {
     "data": {
      "application/vnd.jupyter.widget-view+json": {
       "model_id": "4ff591251ef04470b04a22fc6189f6f9",
       "version_major": 2,
       "version_minor": 0
      },
      "text/plain": [
       "VBox()"
      ]
     },
     "metadata": {},
     "output_type": "display_data"
    },
    {
     "data": {
      "application/vnd.jupyter.widget-view+json": {
       "model_id": "",
       "version_major": 2,
       "version_minor": 0
      },
      "text/plain": [
       "FloatProgress(value=0.0, bar_style='info', description='Progress:', layout=Layout(height='25px', width='50%'),…"
      ]
     },
     "metadata": {},
     "output_type": "display_data"
    },
    {
     "name": "stdout",
     "output_type": "stream",
     "text": [
      "root\n",
      " |-- artist: string (nullable = true)\n",
      " |-- auth: string (nullable = true)\n",
      " |-- firstName: string (nullable = true)\n",
      " |-- gender: string (nullable = true)\n",
      " |-- itemInSession: integer (nullable = true)\n",
      " |-- lastName: string (nullable = true)\n",
      " |-- length: double (nullable = true)\n",
      " |-- level: string (nullable = true)\n",
      " |-- location: string (nullable = true)\n",
      " |-- method: string (nullable = true)\n",
      " |-- page: string (nullable = true)\n",
      " |-- registration: long (nullable = true)\n",
      " |-- sessionId: integer (nullable = true)\n",
      " |-- song: string (nullable = true)\n",
      " |-- status: integer (nullable = true)\n",
      " |-- ts: string (nullable = true)\n",
      " |-- userAgent: string (nullable = true)\n",
      " |-- userId: integer (nullable = true)\n",
      " |-- start_time: string (nullable = true)\n",
      " |-- hour: string (nullable = true)\n",
      " |-- day: string (nullable = true)\n",
      " |-- week: string (nullable = true)\n",
      " |-- month: string (nullable = true)\n",
      " |-- year: string (nullable = true)\n",
      " |-- week_day: string (nullable = true)"
     ]
    }
   ],
   "source": [
    "df=df_log\n",
    "get_start_time = udf(lambda x: datetime.fromtimestamp(x / 1000.0).strftime('%Y-%m-%d %H:%M:%S'))\n",
    "get_hour = udf(lambda x: datetime.fromtimestamp(x / 1000.0).hour)\n",
    "get_day = udf(lambda x: datetime.fromtimestamp(x / 1000.0).day)\n",
    "get_week = udf(lambda x: datetime.fromtimestamp(x / 1000.0).strftime('%W'))\n",
    "get_month = udf(lambda x: datetime.fromtimestamp(x / 1000.0).month)\n",
    "get_year = udf(lambda x: datetime.fromtimestamp(x / 1000.0).year)\n",
    "get_weekday = udf(lambda x: datetime.fromtimestamp(x / 1000.0).strftime('%A'))\n",
    "\n",
    "df = df.withColumn('start_time', get_start_time(df['ts']))\n",
    "df = df.withColumn('hour', get_hour(df['ts']))\n",
    "df = df.withColumn('day', get_day(df['ts']))\n",
    "df = df.withColumn('week', get_week(df['ts']))\n",
    "df = df.withColumn('month', get_month(df['ts']))\n",
    "df = df.withColumn('year', get_year(df['ts']))\n",
    "df = df.withColumn('week_day', get_weekday(df['ts']))\n",
    "\n",
    "df.createOrReplaceTempView(\"time_table\")\n",
    "df.printSchema()\n",
    "\n",
    "columns = ['start_time', 'hour', 'day', 'week', 'month', 'year', 'week_day']\n",
    "\n",
    "    # extract columns to create time table\n",
    "time_table = spark.sql(\n",
    "\"\"\"\n",
    "    SELECT start_time, hour, day, week, month, year, week_day\n",
    "    FROM time_table\n",
    "\"\"\").toDF(*columns)\n",
    "\n",
    "    # write time table to parquet files partitioned by year and month\n",
    "time_table.write.partitionBy(\"year\", \"month\").parquet(os.path.join(output_data, \"time.parquet\"), \"overwrite\")"
   ]
  },
  {
   "cell_type": "code",
   "execution_count": 15,
   "id": "b024f02e",
   "metadata": {},
   "outputs": [
    {
     "data": {
      "application/vnd.jupyter.widget-view+json": {
       "model_id": "90ee1287c5274f56884f391f868c36cf",
       "version_major": 2,
       "version_minor": 0
      },
      "text/plain": [
       "VBox()"
      ]
     },
     "metadata": {},
     "output_type": "display_data"
    },
    {
     "data": {
      "application/vnd.jupyter.widget-view+json": {
       "model_id": "",
       "version_major": 2,
       "version_minor": 0
      },
      "text/plain": [
       "FloatProgress(value=0.0, bar_style='info', description='Progress:', layout=Layout(height='25px', width='50%'),…"
      ]
     },
     "metadata": {},
     "output_type": "display_data"
    }
   ],
   "source": [
    "import pyspark.sql.functions as F\n",
    "df = df.withColumn('songplay_id', F.monotonically_increasing_id())\n",
    "df.createOrReplaceTempView(\"songplays_table\")\n",
    "\n",
    "song_data = input_song_data\n",
    "song_df = spark.read.schema(schema).json(song_data).drop_duplicates()\n",
    "song_df.createOrReplaceTempView(\"songs_table\")\n",
    "\n",
    "columns = ['songplay_id', 'start_time', 'userId', 'level', 'sessionId', 'location', 'userAgent', 'year', 'month',\n",
    "               'length', 'song_id', 'artist_id', 'title', 'artist_name', 'duration']\n",
    "\n",
    "songplays_table = spark.sql(\n",
    "        \"\"\"\n",
    "            SELECT sp.songplay_id, sp.start_time, sp.userId, sp.level, sp.sessionId, sp.location, sp.userAgent, sp.year, \n",
    "            sp.month, sp.length, s.song_id, s.artist_id, s.title, s.artist_name, s.duration\n",
    "            FROM songplays_table AS sp \n",
    "            JOIN songs_table AS s ON sp.song = s.title AND sp.artist = s.artist_name AND sp.length = s.duration\n",
    "        \"\"\").toDF(*columns)\n",
    "\n",
    "songplays_table.write.partitionBy(\"year\", \"month\").parquet(os.path.join(output_data, \"songplays.parquet\"), \"overwrite\")"
   ]
  },
  {
   "cell_type": "code",
   "execution_count": null,
   "id": "d0d86043",
   "metadata": {},
   "outputs": [],
   "source": []
  }
 ],
 "metadata": {
  "kernelspec": {
   "display_name": "PySpark",
   "language": "",
   "name": "pysparkkernel"
  },
  "language_info": {
   "codemirror_mode": {
    "name": "python",
    "version": 3
   },
   "mimetype": "text/x-python",
   "name": "pyspark",
   "pygments_lexer": "python3"
  }
 },
 "nbformat": 4,
 "nbformat_minor": 5
}
